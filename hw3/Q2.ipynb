{
 "cells": [
  {
   "cell_type": "code",
   "execution_count": 12,
   "metadata": {},
   "outputs": [],
   "source": [
    "import numpy as np\n",
    "from scipy import misc\n",
    "import itertools\n",
    "from sklearn.linear_model import LogisticRegression\n",
    "from scipy.spatial.distance import cdist\n",
    "from sklearn import metrics\n",
    "from sklearn.metrics import confusion_matrix,roc_auc_score\n",
    "from sklearn.cluster import KMeans\n",
    "from matplotlib import pylab as plt\n",
    "import matplotlib.cm as cm\n",
    "from sklearn.naive_bayes import GaussianNB\n",
    "from sklearn.naive_bayes import BernoulliNB\n",
    "from sklearn.naive_bayes import MultinomialNB\n",
    "import re\n",
    "%matplotlib inline"
   ]
  },
  {
   "cell_type": "code",
   "execution_count": 10,
   "metadata": {},
   "outputs": [],
   "source": [
    "#(a)1372 articles x 5476 word feat: log smoothed word freq w/ zero mean\n",
    "X = np.load(\"data/science2k-doc-word.npy\")"
   ]
  },
  {
   "cell_type": "code",
   "execution_count": 29,
   "metadata": {},
   "outputs": [],
   "source": [
    "vocab,title = [],[]\n",
    "for line in open('./data/science2k-vocab.txt'):\n",
    "    l = line.strip().split(\"\\t\")\n",
    "    vocab.append(l)\n",
    "for line in open('./data/science2k-titles.txt'):\n",
    "    l = line.strip().split(\"\\t\")\n",
    "    title.append(l)"
   ]
  },
  {
   "cell_type": "code",
   "execution_count": 13,
   "metadata": {},
   "outputs": [
    {
     "data": {
      "image/png": "[encoded data removed]",
      "text/plain": [
       "<Figure size 432x288 with 1 Axes>"
      ]
     },
     "metadata": {},
     "output_type": "display_data"
    }
   ],
   "source": [
    "distortions = []\n",
    "K = range(2,50)\n",
    "for k in K:\n",
    "    kmeanModel = KMeans(n_clusters=k).fit(X)\n",
    "    kmeanModel.fit(X)\n",
    "    distortions.append(sum(np.min(cdist(X, kmeanModel.cluster_centers_, 'euclidean'), axis=1)) / X.shape[0])\n",
    "\n",
    "# Plot the elbow\n",
    "plt.plot(K, distortions, 'bx-')\n",
    "plt.xlabel('k')\n",
    "plt.ylabel('Distortion')\n",
    "plt.title('The Elbow Method showing the optimal k')\n",
    "plt.show()"
   ]
  },
  {
   "cell_type": "markdown",
   "metadata": {},
   "source": [
    "Choose k=9"
   ]
  },
  {
   "cell_type": "code",
   "execution_count": 89,
   "metadata": {},
   "outputs": [
    {
     "data": {
      "text/plain": [
       "KMeans(algorithm='auto', copy_x=True, init='k-means++', max_iter=300,\n",
       "    n_clusters=9, n_init=10, n_jobs=1, precompute_distances='auto',\n",
       "    random_state=None, tol=0.0001, verbose=0)"
      ]
     },
     "execution_count": 89,
     "metadata": {},
     "output_type": "execute_result"
    }
   ],
   "source": [
    "kmeanModel = KMeans(n_clusters=9).fit(X)\n",
    "kmeanModel.fit(X)"
   ]
  },
  {
   "cell_type": "code",
   "execution_count": 90,
   "metadata": {},
   "outputs": [
    {
     "name": "stdout",
     "output_type": "stream",
     "text": [
      "############Cluster 2: \n",
      "['population']\n",
      "['significant']\n",
      "['significantly']\n",
      "['reports']\n",
      "['responses']\n",
      "['mean']\n",
      "['test']\n",
      "['email']\n",
      "['analysis']\n",
      "['populations']\n",
      "############Cluster 8: \n",
      "['energy']\n",
      "['reports']\n",
      "['electron']\n",
      "['fig']\n",
      "['solid']\n",
      "['optical']\n",
      "['shows']\n",
      "['dependence']\n",
      "['sample']\n",
      "['magnetic']\n",
      "############Cluster 5: \n",
      "['mail']\n",
      "['compass']\n",
      "['author']\n",
      "['page']\n",
      "['issue']\n",
      "['news']\n",
      "['sciences']\n",
      "['policy']\n",
      "['department']\n",
      "['edu']\n",
      "############Cluster 3: \n",
      "['climate']\n",
      "['ocean']\n",
      "['atmospheric']\n",
      "['atmosphere']\n",
      "['sea']\n",
      "['global']\n",
      "['records']\n",
      "['atlantic']\n",
      "['record']\n",
      "['variability']\n",
      "############Cluster 1: \n",
      "['cells']\n",
      "['expression']\n",
      "['protein']\n",
      "['cell']\n",
      "['gene']\n",
      "['wild']\n",
      "['proteins']\n",
      "['mutant']\n",
      "['expressed']\n",
      "['control']\n",
      "############Cluster 0: \n",
      "['earth']\n",
      "['geophys']\n",
      "['planet']\n",
      "['thermal']\n",
      "['depth']\n",
      "['material']\n",
      "['mantle']\n",
      "['composition']\n",
      "['crust']\n",
      "['surface']\n",
      "############Cluster 6: \n",
      "['says']\n",
      "['researchers']\n",
      "['scientists']\n",
      "['people']\n",
      "['get']\n",
      "['year']\n",
      "['just']\n",
      "['say']\n",
      "['team']\n",
      "['national']\n",
      "############Cluster 7: \n",
      "['protein']\n",
      "['binding']\n",
      "['proteins']\n",
      "['residues']\n",
      "['conserved']\n",
      "['structural']\n",
      "['amino']\n",
      "['acid']\n",
      "['domain']\n",
      "['cell']\n",
      "############Cluster 4: \n",
      "['energy']\n",
      "['theoretical']\n",
      "['matter']\n",
      "['motion']\n",
      "['momentum']\n",
      "['theory']\n",
      "['field']\n",
      "['velocity']\n",
      "['direction']\n",
      "['properties']\n"
     ]
    }
   ],
   "source": [
    "word_list = []\n",
    "cluster_dists = []\n",
    "for center in kmeanModel.cluster_centers_:\n",
    "    word_ind = []\n",
    "    cluster_dists.append(np.linalg.norm(center-np.mean(kmeanModel.cluster_centers_,axis=0)))\n",
    "    indices = np.argsort((center-np.mean(kmeanModel.cluster_centers_,axis=0)))\n",
    "    word_ind = [indices[-1], indices[-2], indices[-3], indices[-4], indices[-5],indices[-6], indices[-7], indices[-8], indices[-9], indices[-10]]\n",
    "    for i in word_ind:\n",
    "        word_list.append(vocab[i])\n",
    "\n",
    "cluster_order = np.argsort(cluster_dists)\n",
    "for j in cluster_order:\n",
    "    print('############Cluster '+str(j)+': ')\n",
    "    for k in range(10):\n",
    "        print(word_list[j*10 + k])\n"
   ]
  },
  {
   "cell_type": "code",
   "execution_count": 91,
   "metadata": {},
   "outputs": [
    {
     "name": "stdout",
     "output_type": "stream",
     "text": [
      "####### Cluster 2: \n",
      "['\"Selectivity for 3D Shape That Reveals Distinct Areas within Macaque Inferior Temporal Cortex\"']\n",
      "['\"Nonrandom Extinction and the Loss of Evolutionary History\"']\n",
      "['\"Mirror-Image Confusion in Single Neurons of the Macaque Inferotemporal Cortex\"']\n",
      "['\"An Empirical Assessment of Taxic Paleobiology\"']\n",
      "['\"Abolition and Reversal of Strain Differences in Behavioral Responses to Drugs of Abuse after a Brief Experience\"']\n",
      "['\"Promiscuity and the Primate Immune System\"']\n",
      "['\"Language Discrimination by Human Newborns and by Cotton-Top Tamarin Monkeys\"']\n",
      "['\"Natural Selection and Parallel Speciation in Sympatric Sticklebacks\"']\n",
      "['\"Reversal of Antipsychotic-Induced Working Memory Deficits by Short-Term Dopamine D1 Receptor Stimulation\"']\n",
      "['\"High Direct Estimate of the Mutation Rate in the Mitochondrial Genome of Caenorhabditis elegans\"']\n",
      "####### Cluster 8: \n",
      "['\"The Formation of Chondrules at High Gas Pressures in the Solar Nebula\"']\n",
      "['\"A Monoclinic Post-Stishovite Polymorph of Silica in the Shergotty Meteorite\"']\n",
      "['\"Synthesis and Characterization of Helical Multi-Shell Gold Nanowires\"']\n",
      "['\"Ambipolar Pentacene Field-Effect Transistors and Inverters\"']\n",
      "['\"A Stable Bicyclic Compound with Two Si=Si Double Bonds\"']\n",
      "['\"Xenon as a Complex Ligand: The Tetra Xenono Gold(II) Cation in <latex>$AuXe_4^{2+}(Sb_2F_{11}^-)_2$</latex>\"']\n",
      "['\"Direct Condensation of Carboxylic Acids with Alcohols Catalyzed by Hafnium(IV) Salts\"']\n",
      "['\"Atomic Layer Deposition of Oxide Thin Films with Metal Alkoxides as Oxygen Sources\"']\n",
      "['\"A Cyclic Carbanionic Valence Isomer of a Carbocation: Diphosphino Analogs of Diaminocarbocations\"']\n",
      "['\"Discovery of a Basaltic Asteroid in the Outer Main Belt\"']\n",
      "####### Cluster 5: \n",
      "['\"Algorithmic Gladiators Vie for Digital Glory\"']\n",
      "['\"Reopening the Darkest Chapter in German Science\"']\n",
      "['\"National Academy of Sciences Elects New Members\"']\n",
      "['\"Corrections and Clarifications: Unearthing Monuments of the Yarmukians\"']\n",
      "['\"Corrections and Clarifications: Charon\\'s First Detailed Spectra Hold Many Surprises\"']\n",
      "['\"Corrections and Clarifications: A Short Fe-Fe Distance in Peroxodiferric Ferritin: Control of Fe Substrate versus Cofactor Decay?\"']\n",
      "['\"Heretical Idea Faces Its Sternest Test\"']\n",
      "['\"Archaeology in the Holy Land\"']\n",
      "['\"Corrections and Clarifications: One Hundred Years of Quantum Physics\"']\n",
      "['\"Corrections and Clarifications: Biotech Research Proves a Draw in Canada\"']\n",
      "####### Cluster 3: \n",
      "['\"Population Dynamical Consequences of Climate Change for a Small Temperate Songbird\"']\n",
      "['\"Reconstruction of the Amazon Basin Effective Moisture Availability over the past 14,000 Years\"']\n",
      "['\"Frozen Methane Escapes from the Sea Floor\"']\n",
      "['\"Greenland Ice Sheet: High-Elevation Balance and Peripheral Thinning\"']\n",
      "['\"The Causes of 20th Century Warming\"']\n",
      "['\"Isotopic Evidence for Variations in the Marine Calcium Cycle over the Cenozoic\"']\n",
      "['\"Glacial Climate Instability\"']\n",
      "['\"Lessons for a New Millennium\"']\n",
      "['\"Variable Carbon Sinks\"']\n",
      "['\"The Role of the Southern Ocean in Uptake and Storage of Anthropogenic Carbon Dioxide\"']\n",
      "####### Cluster 1: \n",
      "['\"Requirement of NAD and SIR2 for Life-Span Extension by Calorie Restriction in Saccharomyces Cerevisiae\"']\n",
      "['\"Suppression of Mutations in Mitochondrial DNA by tRNAs Imported from the Cytoplasm\"']\n",
      "['\"Distinct Classes of Yeast Promoters Revealed by Differential TAF Recruitment\"']\n",
      "['\"Efficient Initiation of HCV RNA Replication in Cell Culture\"']\n",
      "['\"Negative Regulation of the SHATTERPROOF Genes by FRUITFULL during Arabidopsis Fruit Development\"']\n",
      "['\"T Cell-Independent Rescue of B Lymphocytes from Peripheral Immune Tolerance\"']\n",
      "['\"Patterning of the Zebrafish Retina by a Wave of Sonic Hedgehog Activity\"']\n",
      "['\"Reduced Food Intake and Body Weight in Mice Treated with Fatty Acid Synthase Inhibitors\"']\n",
      "['\"Coupling of Stress in the ER to Activation of JNK Protein Kinases by Transmembrane Protein Kinase IRE1\"']\n",
      "['\"An Anti-Apoptotic Role for the p53 Family Member, p73, during Developmental Neuron Death\"']\n",
      "####### Cluster 0: \n",
      "['\"Remobilization in the Cratonic Lithosphere Recorded in Polycrystalline Diamond\"']\n",
      "['\"Extinct <latex>$^{129}I$</latex> in Halite from a Primitive Meteorite: Evidence for Evaporite Formation in the Early Solar System\"']\n",
      "['\"Evidence for Crystalline Water and Ammonia Ices on Pluto\\'s Satellite Charon\"']\n",
      "['\"African Hot Spot Volcanism: Small-Scale Convection in the Upper Mantle beneath Cratons\"']\n",
      "['\"Solar Wind Record on the Moon: Deciphering Presolar from Planetary Nitrogen\"']\n",
      "['\"Geodynamic Evidence for a Chemically Depleted Continental Tectosphere\"']\n",
      "['\"Rutile-Bearing Refractory Eclogites: Missing Link between Continents and Depleted Mantle\"']\n",
      "['\"Folds on Europa: Implications for Crustal Cycling and Accommodation of Extension\"']\n",
      "['\"High Magma Storage Rates before the 1983 Eruption of Kilauea, Hawaii\"']\n",
      "['\"Suppression of Rain and Snow by Urban and Industrial Air Pollution\"']\n",
      "####### Cluster 6: \n",
      "['\"Information Technology Takes a Different Tack\"']\n",
      "['\"Science Survives in Breakthrough States\"']\n",
      "['\"Vaccine Studies Stymied by Shortage of Animals\"']\n",
      "['\"For \\'Father\\' of Abortion Drug, Vindication at Last\"']\n",
      "['\"On a Slippery Slope to Mediocrity?\"']\n",
      "['\"In Europe, Hooligans Are Prime Subjects for Research\"']\n",
      "['\"Japan\\'s Whaling Program Carries Heavy Baggage\"']\n",
      "['\"Is AIDS in Africa a Distinct Disease?\"']\n",
      "['\"New Science Chief Must Juggle Missions and Politics\"']\n",
      "['\"Building a Disease-Fighting Mosquito\"']\n",
      "####### Cluster 7: \n",
      "['\"Structure of Yeast Poly(A) Polymerase Alone and in Complex with 3\\'-dATP\"']\n",
      "['\"Structure of Murine CTLA-4 and Its Role in Modulating T Cell Responsiveness\"']\n",
      "['\"Selfish DNA in Protein-Coding Genes of Rickettsia\"']\n",
      "['\"Candidate Taste Receptors in Drosophila\"']\n",
      "['\"Structure of the S15,S6,S18-rRNA Complex: Assembly of the 30S Ribosome Central Domain\"']\n",
      "['\"The Productive Conformation of Arachidonic Acid Bound to Prostaglandin Synthase\"']\n",
      "['\"Atomic Structure of PDE4: Insights into Phosphodiesterase Mechanism and Specificity\"']\n",
      "['\"Twists in Catalysis: Alternating Conformations of Escherichia coli Thioredoxin Reductase\"']\n",
      "['\"Redox Signaling in Chloroplasts: Cleavage of Disulfides by an Iron-Sulfur Cluster\"']\n",
      "['\"Structure of the Protease Domain of Memapsin 2 (b-Secretase) Complexed with Inhibitor\"']\n",
      "####### Cluster 4: \n",
      "['\"Gone with the Wind: The Origin of S0 Galaxies in Clusters\"']\n",
      "['\"Generating Solitons by Phase Engineering of a Bose-Einstein Condensate\"']\n",
      "['\"The Dark Halo of the Milky Way\"']\n",
      "['\"Negative Poisson\\'s Ratios for Extreme States of Matter\"']\n",
      "['\"Quantum Criticality: Competing Ground States in Low Dimensions\"']\n",
      "['\"Orbital Physics in Transition-Metal Oxides\"']\n",
      "['\"The Galactic Center: An Interacting System of Unusual Sources\"']\n",
      "['\"The Baryon Halo of the Milky Way: A Fossil Record of Its Formation\"']\n",
      "['\"Whither the Future of Controlling Quantum Phenomena?\"']\n",
      "['\"One Hundred Years of Quantum Physics\"']\n"
     ]
    }
   ],
   "source": [
    "for cluster in cluster_order:\n",
    "    print('####### Cluster '+str(cluster)+': ')\n",
    "    all_dist=[]\n",
    "    member_indices = np.where(kmeanModel.labels_ == cluster)[0]\n",
    "    cluster_members = X[member_indices,:]\n",
    "    for member in cluster_members:\n",
    "        all_dist.append(np.linalg.norm(member-kmeanModel.cluster_centers_[cluster]))\n",
    "    indices = np.argsort(all_dist)\n",
    "    close_indices = [indices[0], indices[1], indices[2], indices[3], indices[4],indices[5], indices[6], indices[7], indices[8], indices[9]]    \n",
    "    for l in close_indices:\n",
    "        print(title[member_indices[l]])\n",
    "# word_list = np.array(word_list)\n",
    "# word_list.flatten()\n",
    "# for word in word_list:\n",
    "#     print(word)"
   ]
  },
  {
   "cell_type": "markdown",
   "metadata": {},
   "source": [
    "The algorithm captures the field of study and style of Science papers. Such algorithm is useful for categorizing and organizing papers in a database and improve the result of search engines."
   ]
  },
  {
   "cell_type": "code",
   "execution_count": null,
   "metadata": {},
   "outputs": [],
   "source": [
    "#(b)"
   ]
  },
  {
   "cell_type": "code",
   "execution_count": 171,
   "metadata": {},
   "outputs": [],
   "source": [
    "X2 = np.load(\"data/science2k-word-doc.npy\")"
   ]
  },
  {
   "cell_type": "code",
   "execution_count": 172,
   "metadata": {},
   "outputs": [
    {
     "data": {
      "image/png": "[encoded data removed]",
      "text/plain": [
       "<Figure size 432x288 with 1 Axes>"
      ]
     },
     "metadata": {},
     "output_type": "display_data"
    }
   ],
   "source": [
    "distortions = []\n",
    "K = range(2,30)\n",
    "for k in K:\n",
    "    kmeanModel = KMeans(n_clusters=k).fit(X2)\n",
    "    kmeanModel.fit(X2)\n",
    "    distortions.append(sum(np.min(cdist(X2, kmeanModel.cluster_centers_, 'euclidean'), axis=1)) / X.shape[0])\n",
    "\n",
    "# Plot the elbow\n",
    "plt.plot(K, distortions, 'bx-')\n",
    "plt.xlabel('k')\n",
    "plt.ylabel('Distortion')\n",
    "plt.title('The Elbow Method showing the optimal k')\n",
    "plt.show()"
   ]
  },
  {
   "cell_type": "markdown",
   "metadata": {},
   "source": [
    "Choose k=5"
   ]
  },
  {
   "cell_type": "code",
   "execution_count": 188,
   "metadata": {},
   "outputs": [
    {
     "data": {
      "text/plain": [
       "KMeans(algorithm='auto', copy_x=True, init='k-means++', max_iter=300,\n",
       "    n_clusters=5, n_init=10, n_jobs=1, precompute_distances='auto',\n",
       "    random_state=None, tol=0.0001, verbose=0)"
      ]
     },
     "execution_count": 188,
     "metadata": {},
     "output_type": "execute_result"
    }
   ],
   "source": [
    "kmeanModel2 = KMeans(n_clusters=5).fit(X2)\n",
    "kmeanModel2.fit(X2)"
   ]
  },
  {
   "cell_type": "code",
   "execution_count": 189,
   "metadata": {},
   "outputs": [
    {
     "name": "stdout",
     "output_type": "stream",
     "text": [
      "############Cluster 4: \n",
      "['\"Into the Forbidden Zone\"']\n",
      "['\"Clues from a Shocked Meteorite\"']\n",
      "['\"Influences of Dietary Uptake and Reactive Sulfides on Metal Bioavailability from Aquatic Sediments\"']\n",
      "['\"Nonavian Feathers in a Late Triassic Archosaur\"']\n",
      "['\"Ambipolar Pentacene Field-Effect Transistors and Inverters\"']\n",
      "['\"The Formation of Chondrules at High Gas Pressures in the Solar Nebula\"']\n",
      "['\"National Academy of Sciences Elects New Members\"']\n",
      "['\"A Monoclinic Post-Stishovite Polymorph of Silica in the Shergotty Meteorite\"']\n",
      "['\"The Chi-Chi Earthquake Sequence: Active, Out-of-Sequence Thrust Faulting in Taiwan\"']\n",
      "['\"Synthesis and Characterization of Helical Multi-Shell Gold Nanowires\"']\n",
      "############Cluster 3: \n",
      "['\"Presidential Forum: Gore and Bush Offer Their Views on Science\"']\n",
      "['\"Something to Be Done: Treating HIV/AIDS\"']\n",
      "['\"A Mouse Chronology\"']\n",
      "['\"Ecologists on a Mission to Save the World\"']\n",
      "['\"Silent No Longer: \\'Model Minority\\' Mobilizes\"']\n",
      "['\"Infectious History\"']\n",
      "['\"Eligibility for CSEM Scholarships\"']\n",
      "['\"Balancing the Collaboration Equation\"']\n",
      "['\"Ground Zero: AIDS Research in Africa\"']\n",
      "['\"Biological Control of Invading Species\"']\n",
      "############Cluster 2: \n",
      "['\"NEAR at Eros: Imaging and Spectral Results\"']\n",
      "['\"The Atom-Cavity Microscope: Single Atoms Bound in Orbit by Single Photons\"']\n",
      "['\"Advances in the Physics of High-Temperature Superconductivity\"']\n",
      "['\"Subduction and Slab Detachment in the Mediterranean-Carpathian Region\"']\n",
      "['\"Internal Structure and Early Thermal Evolution of Mars from Mars Global Surveyor Topography and Gravity\"']\n",
      "['\"The Formation and Early Evolution of the Milky Way Galaxy\"']\n",
      "['\"Quantum Criticality: Competing Ground States in Low Dimensions\"']\n",
      "['\"Earth\\'s Core and the Geodynamo\"']\n",
      "['\"Sediments at the Top of Earth\\'s Core\"']\n",
      "['\"Experiments and Simulations of Ion-Enhanced Interfacial Chemistry on Aqueous NaCl Aerosols\"']\n",
      "############Cluster 1: \n",
      "['\"Atom-Scale Research Gets Real\"']\n",
      "['\"Meltdown on Long Island\"']\n",
      "['\"Help Needed to Rebuild Science in Yugoslavia\"']\n",
      "['\"A Mouse Chronology\"']\n",
      "['\"Clones: A Hard Act to Follow\"']\n",
      "['\"Designer Labs: Architecture Discovers Science\"']\n",
      "['\"I\\'d like to See America Used as a Global Lab\"']\n",
      "['\"Creation\\'s Seventh Day\"']\n",
      "['\"Soft Money\\'s Hard Realities\"']\n",
      "['\"Ecologists on a Mission to Save the World\"']\n",
      "############Cluster 0: \n",
      "['\"Noxa, a BH3-Only Member of the Bcl-2 Family and Candidate Mediator of p53-Induced Apoptosis\"']\n",
      "['\"Central Role for G Protein-Coupled Phosphoinositide 3-Kinase g in Inflammation\"']\n",
      "['\"Kinesin Superfamily Motor Protein KIF17 and mLin-10 in NMDA Receptor-Containing Vesicle Transport\"']\n",
      "['\"Role of the Mouse ank Gene in Control of Tissue Calcification and Arthritis\"']\n",
      "['\"Regulated Cleavage of a Contact-Mediated Axon Repellent\"']\n",
      "['\"Positional Syntenic Cloning and Functional Characterization of the Mammalian Circadian Mutation tau\"']\n",
      "['\"Dual Signaling Regulated by Calcyon, a D1 Dopamine Receptor Interacting Protein\"']\n",
      "['\"Requirement of JNK for Stress-Induced Activation of the Cytochrome c-Mediated Death Pathway\"']\n",
      "['\"Regulation of STAT3 by Direct Binding to the Rac1 GTPase\"']\n",
      "['\"Function of PI3Kg in Thymocyte Development, T Cell Activation, and Neutrophil Migration\"']\n"
     ]
    }
   ],
   "source": [
    "doc_list = []\n",
    "cluster_dists = []\n",
    "for center in kmeanModel2.cluster_centers_:\n",
    "    cluster_dists.append(np.linalg.norm(center-np.mean(kmeanModel2.cluster_centers_,axis=0)))\n",
    "    indices = np.argsort((center-np.mean(kmeanModel2.cluster_centers_,axis=0)))\n",
    "    doc_ind = [indices[-1], indices[-2], indices[-3], indices[-4], indices[-5],indices[-6], indices[-7], indices[-8], indices[-9], indices[-10]]\n",
    "    for i in doc_ind:\n",
    "        doc_list.append(title[i])\n",
    "\n",
    "cluster_order = np.argsort(cluster_dists)\n",
    "for j in cluster_order:\n",
    "    print('############Cluster '+str(j)+': ')\n",
    "    for k in range(10):\n",
    "        print(doc_list[j*10 + k])\n"
   ]
  },
  {
   "cell_type": "code",
   "execution_count": 190,
   "metadata": {},
   "outputs": [
    {
     "name": "stdout",
     "output_type": "stream",
     "text": [
      "####### Cluster 4: \n",
      "['aptamers']\n",
      "['dnag']\n",
      "['trxr']\n",
      "['rory']\n",
      "['lcts']\n",
      "['proteorhodopsin']\n",
      "['ag7']\n",
      "['nompc']\n",
      "['lg268']\n",
      "['neas']\n",
      "####### Cluster 3: \n",
      "['expectancy']\n",
      "['celera']\n",
      "['intelligence']\n",
      "['managers']\n",
      "['income']\n",
      "['teachers']\n",
      "['doe']\n",
      "['mosquitoes']\n",
      "['mosquito']\n",
      "['essay']\n",
      "####### Cluster 2: \n",
      "['www']\n",
      "['approximation']\n",
      "['angular']\n",
      "['finite']\n",
      "['coherent']\n",
      "['nonlinear']\n",
      "['periodic']\n",
      "['regime']\n",
      "['calculation']\n",
      "['diffraction']\n",
      "####### Cluster 1: \n",
      "['whats']\n",
      "['thing']\n",
      "['researcher']\n",
      "['didnt']\n",
      "['doesnt']\n",
      "['hopes']\n",
      "['got']\n",
      "['plans']\n",
      "['biologist']\n",
      "['getting']\n",
      "####### Cluster 0: \n",
      "['immunoblotting']\n",
      "['immunoblot']\n",
      "['immunoprecipitated']\n",
      "['plasmids']\n",
      "['polyacrylamide']\n",
      "['lysates']\n",
      "['immunoglobulin']\n",
      "['bovine']\n",
      "['wildtype']\n",
      "['phosphorylated']\n"
     ]
    }
   ],
   "source": [
    "for cluster in cluster_order:\n",
    "    print('####### Cluster '+str(cluster)+': ')\n",
    "    all_dist=[]\n",
    "    member_indices = np.where(kmeanModel2.labels_ == cluster)[0]\n",
    "    cluster_members = X2[member_indices,:]\n",
    "    for member in cluster_members:\n",
    "        all_dist.append(np.linalg.norm(member-kmeanModel2.cluster_centers_[cluster]))\n",
    "    indices = np.argsort(all_dist)\n",
    "    close_indices = [indices[0], indices[1], indices[2], indices[3], indices[4],indices[5], indices[6], indices[7], indices[8], indices[9]]    \n",
    "    for l in close_indices:\n",
    "        print(vocab[member_indices[l]])\n",
    "        "
   ]
  },
  {
   "cell_type": "code",
   "execution_count": null,
   "metadata": {},
   "outputs": [],
   "source": []
  }
 ],
 "metadata": {
  "kernelspec": {
   "display_name": "Python 2",
   "language": "python",
   "name": "python2"
  },
  "language_info": {
   "codemirror_mode": {
    "name": "ipython",
    "version": 2
   },
   "file_extension": ".py",
   "mimetype": "text/x-python",
   "name": "python",
   "nbconvert_exporter": "python",
   "pygments_lexer": "ipython2",
   "version": "2.7.15"
  }
 },
 "nbformat": 4,
 "nbformat_minor": 2
}
