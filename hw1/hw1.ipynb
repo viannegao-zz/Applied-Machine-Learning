{
 "cells": [
  {
   "cell_type": "code",
   "execution_count": 1,
   "metadata": {},
   "outputs": [],
   "source": [
    "% matplotlib inline"
   ]
  },
  {
   "cell_type": "code",
   "execution_count": 2,
   "metadata": {},
   "outputs": [],
   "source": [
    "import scipy\n",
    "import math\n",
    "from matplotlib import pyplot as plt\n",
    "import numpy as np\n",
    "import csv\n",
    "from itertools import combinations \n",
    "#import scikit"
   ]
  },
  {
   "cell_type": "code",
   "execution_count": 3,
   "metadata": {},
   "outputs": [],
   "source": [
    "data=[]\n",
    "label=[]\n",
    "with open('train.csv','rt') as csv_file:\n",
    "    allsamples = csv.reader(csv_file, delimiter=\"\\t\")\n",
    "    next(allsamples)\n",
    "    for sample in allsamples:\n",
    "        if sample:\n",
    "            sample = sample[0]\n",
    "            sample = sample.split(\",\")\n",
    "            data.append(sample[1:])\n",
    "            label.append(sample[0])\n",
    "data = np.array(data)\n",
    "data = data.astype(float)"
   ]
  },
  {
   "cell_type": "code",
   "execution_count": 4,
   "metadata": {},
   "outputs": [],
   "source": [
    "#(b)\n",
    "def display_image(data):\n",
    "    data = np.array(data)\n",
    "    data = np.reshape(data,(-1,28))\n",
    "    plt.imshow(data,cmap='gray')\n",
    "    plt.show()"
   ]
  },
  {
   "cell_type": "code",
   "execution_count": 5,
   "metadata": {},
   "outputs": [],
   "source": [
    "#(c)\n",
    "for i in range(0,10):\n",
    "    ind = label.index(str(i))\n",
    "    #display_image(data[ind])\n",
    "    #print(label[ind])"
   ]
  },
  {
   "cell_type": "code",
   "execution_count": 6,
   "metadata": {},
   "outputs": [
    {
     "data": {
      "image/png": "[encoded data removed]",
      "text/plain": [
       "<Figure size 432x288 with 1 Axes>"
      ]
     },
     "metadata": {
      "needs_background": "light"
     },
     "output_type": "display_data"
    }
   ],
   "source": [
    "plt.hist(np.array(label,dtype=int),density=1)\n",
    "plt.xticks(np.arange(0, 10, step=1))\n",
    "plt.xlabel('Digit Classes')\n",
    "plt.ylabel('Prior Probability')\n",
    "plt.title(r'Prior Probability of MNIST Training Data')\n",
    "plt.show()\n"
   ]
  },
  {
   "cell_type": "code",
   "execution_count": 7,
   "metadata": {},
   "outputs": [],
   "source": [
    "#(d)\n",
    "def get_dist(d1,d2):\n",
    "    diff = np.array(d1)-np.array(d2)\n",
    "    #distance = math.sqrt(sum([(a - b) ** 2 for a, b in zip(d1, d2)]))\n",
    "    return np.linalg.norm(diff)\n",
    "    #return math.sqrt(np.dot(diff,diff))\n",
    "\n",
    "def get_dist_batch(batch1,batch2): #batch is a ndarray\n",
    "    all_dist = []\n",
    "    c=0\n",
    "    for a in batch1:\n",
    "        if c%1000==0:\n",
    "            print(c)\n",
    "        c+=1\n",
    "        mat1 = np.tile(a, (len(batch2), 1))\n",
    "        mat2 = np.array(batch2)\n",
    "        dist = (mat1-mat2)**2\n",
    "        dist = (np.sum(dist, axis = 1))**0.5\n",
    "        all_dist.append(dist)\n",
    "\n",
    "    all_dist = np.array(all_dist)\n",
    "    return all_dist.flatten()\n",
    "\n",
    "#     train_num = batch1.shape[0] # n\n",
    "#     test_num = batch2.shape[0]  # m\n",
    "\n",
    "#     train_tensor = np.repeat(batch1[:, :, np.newaxis], test_num, axis=2) # n * d * m\n",
    "#     test_tensor = np.repeat(batch2[:, :, np.newaxis], train_num, axis=2) # m * d * n\n",
    "#     test_tensor = np.swapaxes(test_tensor,0,2) # swap axis n*d*m\n",
    "#     dist = (train_tensor - test_tensor)**2 # difference and square\n",
    "#     dist = (np.sum(dist, axis = 1))**0.5 # sum along the 2nd axis, and take square root\n",
    "#     print(dist.shape)\n",
    "#     return dist.flatten()\n",
    "\n",
    "\n",
    "def get_nn(index, data, label):\n",
    "    best_dist = math.inf\n",
    "    for j in range(len(label)):\n",
    "        if j != index:\n",
    "            dist = get_dist(data[index],data[j])\n",
    "            if dist < best_dist:\n",
    "                best_dist = dist\n",
    "                cur_nn = j\n",
    "    if label[index] != label[cur_nn]:\n",
    "        print(label[index], label[cur_nn])"
   ]
  },
  {
   "cell_type": "code",
   "execution_count": null,
   "metadata": {},
   "outputs": [],
   "source": [
    "# train_num = batch1.shape[0] # n\n",
    "# test_num = batch2.shape[0]  # m \n",
    "\n",
    "# train_tensor = np.repeat(batch1[:, :, np.newaxis], test_num, axis=2) # n * d * m\n",
    "# test_tensor = np.repeat(batch2[:, :, np.newaxis], train_num, axis=2) # m * d * n\n",
    "# test_tensor = np.swapaxes(test_tensor,0,2) # swap axis n*d*m\n",
    "# dist = (train_tensor - test_tensor)**2 # difference and square\n",
    "# dist = (np.sum(dist, axis = 1))**0.5 # sum along the 2nd axis, and take square root\n",
    "# return dist"
   ]
  },
  {
   "cell_type": "code",
   "execution_count": 8,
   "metadata": {},
   "outputs": [
    {
     "name": "stdout",
     "output_type": "stream",
     "text": [
      "3 5\n"
     ]
    }
   ],
   "source": [
    "for i in range(0,10):\n",
    "    ind = label.index(str(i))\n",
    "    get_nn(ind, data, label)\n",
    "#     best_dist = math.inf\n",
    "#     for j in range(len(label)):\n",
    "#         if j != ind:\n",
    "#             dist = get_dist(data[ind],data[j])\n",
    "#             if dist < best_dist:\n",
    "#                 best_dist = dist\n",
    "#                 cur_nn = j\n",
    "#             #if dist = best_dist:\n",
    "#             #    cur_nn.append(j)\n",
    "#     print(i, label[cur_nn])"
   ]
  },
  {
   "cell_type": "code",
   "execution_count": 9,
   "metadata": {},
   "outputs": [],
   "source": [
    "#(e)\n",
    "zeros = np.where(np.array(label,dtype=int) == 0)[0]\n",
    "ones = np.where(np.array(label,dtype=int) == 1)[0]\n",
    "data_zeros = [data[i] for i in zeros]\n",
    "data_ones = [data[i] for i in ones]\n",
    "\n",
    "data_zeros_ones = [data[i] for i in np.concatenate((zeros, ones), axis=None)]\n",
    "label_zeros_ones = [label[i] for i in np.concatenate((zeros, ones), axis=None)]\n",
    "\n",
    "# for ind in range(len(label_zeros_ones)):\n",
    "#     get_nn(ind,data_zeros_ones,label_zeros_ones)"
   ]
  },
  {
   "cell_type": "code",
   "execution_count": 20,
   "metadata": {},
   "outputs": [],
   "source": [
    "zeros_comb = combinations(zeros,2)\n",
    "ones_comb = combinations(ones,2)"
   ]
  },
  {
   "cell_type": "code",
   "execution_count": 28,
   "metadata": {},
   "outputs": [],
   "source": [
    "genuine_dist = []\n",
    "imposter_dist = get_dist_batch(data_zeros, data_ones)\n",
    "for i in list(zeros_comb): \n",
    "    genuine_dist.append(get_dist(data[i[0]],data[i[1]]))\n",
    "\n",
    "for j in list(ones_comb): \n",
    "    genuine_dist.append(get_dist(data[j[0]],data[j[1]]))\n"
   ]
  },
  {
   "cell_type": "code",
   "execution_count": 39,
   "metadata": {},
   "outputs": [
    {
     "data": {
      "image/png": "[encoded data removed]",
      "text/plain": [
       "<Figure size 432x288 with 1 Axes>"
      ]
     },
     "metadata": {
      "needs_background": "light"
     },
     "output_type": "display_data"
    }
   ],
   "source": [
    "plt.hist(genuine_dist,density=True,bins=100,color='cyan',alpha=.5)\n",
    "plt.hist(imposter_dist,density=True,bins=100,color='pink',alpha=.5)\n",
    "plt.show()\n",
    "#weights=[1/len(genuine_dist)]*len(genuine_dist)"
   ]
  },
  {
   "cell_type": "code",
   "execution_count": 45,
   "metadata": {},
   "outputs": [],
   "source": [
    "#(f)\n",
    "genuine_dist = np.array(genuine_dist)\n",
    "imposter_dist = np.array(imposter_dist)\n",
    "genuine_dist.sort()\n",
    "imposter_dist.sort()"
   ]
  },
  {
   "cell_type": "code",
   "execution_count": 55,
   "metadata": {},
   "outputs": [
    {
     "name": "stdout",
     "output_type": "stream",
     "text": [
      "Equal Error: 0.18548861110261458\n",
      "Equal Error: 0.18600529247058842\n",
      "Equal Error: 0.18652197383856228\n"
     ]
    },
    {
     "data": {
      "text/plain": [
       "Text(0,0.5,'True Positive')"
      ]
     },
     "execution_count": 55,
     "metadata": {},
     "output_type": "execute_result"
    },
    {
     "data": {
      "image/png": "[encoded data removed]",
      "text/plain": [
       "<Figure size 432x288 with 1 Axes>"
      ]
     },
     "metadata": {
      "needs_background": "light"
     },
     "output_type": "display_data"
    }
   ],
   "source": [
    "tpr_list=[]\n",
    "fpr_list=[]\n",
    "for i in range(0, len(imposter_dist), 10000):\n",
    "    fpr = i/float(len(imposter_dist))\n",
    "    tpr = np.argmax(genuine_dist>=imposter_dist[i])/float(len(genuine_dist))\n",
    "    tpr_list.append(tpr)\n",
    "    fpr_list.append(fpr)\n",
    "    fnr = 1 - tpr\n",
    "    if (\"%.2f\" %fnr == \"%.2f\" %fpr):\n",
    "        print(\"Equal Error: \" + repr(fpr))\n",
    "plt.plot(fpr_list,tpr_list)\n",
    "plt.title(\"ROC Curve\")\n",
    "plt.xlabel(\"False Positive\")\n",
    "plt.ylabel(\"True Positive\") \n",
    "#plt.show()"
   ]
  },
  {
   "cell_type": "code",
   "execution_count": 5,
   "metadata": {},
   "outputs": [],
   "source": [
    "#(g)\n",
    "def find_NN(k,distList,yTr):\n",
    "    arg_sorted = np.argsort(distList,axis=1)\n",
    "    distList = distList[np.arange(np.shape(distList)[0])[:,np.newaxis],arg_sorted]\n",
    "    yTr = np.tile(yTr, (len(distList), 1))\n",
    "    yTr = yTr[np.arange(np.shape(yTr)[0])[:,np.newaxis],arg_sorted]\n",
    "    nn_list = []\n",
    "    for i in range(len(yTr)):\n",
    "        if i%100000==0:\n",
    "            print(\"find_NN: \" + str(i))\n",
    "        neighbors = yTr[i,:np.argmax(distList[i]>distList[i,k-1])]\n",
    "        vote = np.bincount(neighbors)\n",
    "        #print(vote)\n",
    "        nn = np.where(vote==np.max(vote))[0]\n",
    "        #print(nn)\n",
    "        nn_list.append(nn[np.random.randint(len(nn), size=1)])\n",
    "    return nn_list\n",
    "    \n",
    "def classify(k, xTe, xTr=data, yTr=np.array(label,dtype=int)):\n",
    "    k = int(k)\n",
    "    distMat = get_dist_batch(xTr,xTe)\n",
    "    distMat = distMat.reshape(-1,len(xTr))\n",
    "    voteResult = find_NN(k,distMat,yTr)\n",
    "    return voteResult "
   ]
  },
  {
   "cell_type": "code",
   "execution_count": 6,
   "metadata": {},
   "outputs": [
    {
     "name": "stdout",
     "output_type": "stream",
     "text": [
      "0\n"
     ]
    },
    {
     "ename": "KeyboardInterrupt",
     "evalue": "",
     "output_type": "error",
     "traceback": [
      "\u001b[0;31m---------------------------------------------------------------------------\u001b[0m",
      "\u001b[0;31mKeyboardInterrupt\u001b[0m                         Traceback (most recent call last)",
      "\u001b[0;32m<ipython-input-6-4eb4d04814e0>\u001b[0m in \u001b[0;36m<module>\u001b[0;34m()\u001b[0m\n\u001b[1;32m     25\u001b[0m     \u001b[0mprint\u001b[0m\u001b[0;34m(\u001b[0m\u001b[0macc_list\u001b[0m\u001b[0;34m)\u001b[0m\u001b[0;34m\u001b[0m\u001b[0m\n\u001b[1;32m     26\u001b[0m     \u001b[0;32mreturn\u001b[0m \u001b[0macc_list\u001b[0m\u001b[0;34m,\u001b[0m\u001b[0my_pred_list\u001b[0m\u001b[0;34m,\u001b[0m\u001b[0ms_yTe_list\u001b[0m\u001b[0;34m\u001b[0m\u001b[0m\n\u001b[0;32m---> 27\u001b[0;31m \u001b[0mavg_acc\u001b[0m\u001b[0;34m,\u001b[0m \u001b[0my_pred_list\u001b[0m\u001b[0;34m,\u001b[0m \u001b[0ms_yTe_list\u001b[0m \u001b[0;34m=\u001b[0m \u001b[0mcross_val\u001b[0m\u001b[0;34m(\u001b[0m\u001b[0;36m3\u001b[0m\u001b[0;34m)\u001b[0m\u001b[0;34m\u001b[0m\u001b[0m\n\u001b[0m\u001b[1;32m     28\u001b[0m \u001b[0;34m\u001b[0m\u001b[0m\n\u001b[1;32m     29\u001b[0m \u001b[0;34m\u001b[0m\u001b[0m\n",
      "\u001b[0;32m<ipython-input-6-4eb4d04814e0>\u001b[0m in \u001b[0;36mcross_val\u001b[0;34m(k, xTr, yTr)\u001b[0m\n\u001b[1;32m     17\u001b[0m         \u001b[0ms_xTr\u001b[0m \u001b[0;34m=\u001b[0m \u001b[0mnp\u001b[0m\u001b[0;34m.\u001b[0m\u001b[0mtake\u001b[0m\u001b[0;34m(\u001b[0m\u001b[0mxTr\u001b[0m\u001b[0;34m,\u001b[0m\u001b[0mnp\u001b[0m\u001b[0;34m.\u001b[0m\u001b[0mappend\u001b[0m\u001b[0;34m(\u001b[0m\u001b[0msets\u001b[0m\u001b[0;34m[\u001b[0m\u001b[0;34m(\u001b[0m\u001b[0mi\u001b[0m\u001b[0;34m+\u001b[0m\u001b[0;36m1\u001b[0m\u001b[0;34m)\u001b[0m\u001b[0;34m%\u001b[0m\u001b[0;36m3\u001b[0m\u001b[0;34m]\u001b[0m\u001b[0;34m,\u001b[0m\u001b[0msets\u001b[0m\u001b[0;34m[\u001b[0m\u001b[0;34m(\u001b[0m\u001b[0mi\u001b[0m\u001b[0;34m+\u001b[0m\u001b[0;36m2\u001b[0m\u001b[0;34m)\u001b[0m\u001b[0;34m%\u001b[0m\u001b[0;36m3\u001b[0m\u001b[0;34m]\u001b[0m\u001b[0;34m)\u001b[0m\u001b[0;34m,\u001b[0m \u001b[0maxis\u001b[0m\u001b[0;34m=\u001b[0m \u001b[0;36m0\u001b[0m\u001b[0;34m)\u001b[0m\u001b[0;34m\u001b[0m\u001b[0m\n\u001b[1;32m     18\u001b[0m         \u001b[0ms_yTr\u001b[0m \u001b[0;34m=\u001b[0m \u001b[0mnp\u001b[0m\u001b[0;34m.\u001b[0m\u001b[0mtake\u001b[0m\u001b[0;34m(\u001b[0m\u001b[0myTr\u001b[0m\u001b[0;34m,\u001b[0m\u001b[0mnp\u001b[0m\u001b[0;34m.\u001b[0m\u001b[0mappend\u001b[0m\u001b[0;34m(\u001b[0m\u001b[0msets\u001b[0m\u001b[0;34m[\u001b[0m\u001b[0;34m(\u001b[0m\u001b[0mi\u001b[0m\u001b[0;34m+\u001b[0m\u001b[0;36m1\u001b[0m\u001b[0;34m)\u001b[0m\u001b[0;34m%\u001b[0m\u001b[0;36m3\u001b[0m\u001b[0;34m]\u001b[0m\u001b[0;34m,\u001b[0m\u001b[0msets\u001b[0m\u001b[0;34m[\u001b[0m\u001b[0;34m(\u001b[0m\u001b[0mi\u001b[0m\u001b[0;34m+\u001b[0m\u001b[0;36m2\u001b[0m\u001b[0;34m)\u001b[0m\u001b[0;34m%\u001b[0m\u001b[0;36m3\u001b[0m\u001b[0;34m]\u001b[0m\u001b[0;34m)\u001b[0m\u001b[0;34m,\u001b[0m \u001b[0maxis\u001b[0m\u001b[0;34m=\u001b[0m \u001b[0;36m0\u001b[0m\u001b[0;34m)\u001b[0m\u001b[0;34m\u001b[0m\u001b[0m\n\u001b[0;32m---> 19\u001b[0;31m         \u001b[0my_pred\u001b[0m \u001b[0;34m=\u001b[0m \u001b[0mnp\u001b[0m\u001b[0;34m.\u001b[0m\u001b[0marray\u001b[0m\u001b[0;34m(\u001b[0m\u001b[0mclassify\u001b[0m\u001b[0;34m(\u001b[0m\u001b[0mk\u001b[0m\u001b[0;34m,\u001b[0m \u001b[0ms_xTe\u001b[0m\u001b[0;34m,\u001b[0m \u001b[0ms_xTr\u001b[0m\u001b[0;34m,\u001b[0m \u001b[0ms_yTr\u001b[0m\u001b[0;34m)\u001b[0m\u001b[0;34m)\u001b[0m\u001b[0;34m\u001b[0m\u001b[0m\n\u001b[0m\u001b[1;32m     20\u001b[0m         \u001b[0macc\u001b[0m \u001b[0;34m=\u001b[0m \u001b[0;34m(\u001b[0m\u001b[0my_pred\u001b[0m\u001b[0;34m==\u001b[0m\u001b[0ms_yTe\u001b[0m\u001b[0;34m)\u001b[0m\u001b[0;34m[\u001b[0m\u001b[0;36m0\u001b[0m\u001b[0;34m]\u001b[0m\u001b[0;34m.\u001b[0m\u001b[0msum\u001b[0m\u001b[0;34m(\u001b[0m\u001b[0;34m)\u001b[0m\u001b[0;34m/\u001b[0m\u001b[0mfloat\u001b[0m\u001b[0;34m(\u001b[0m\u001b[0mlen\u001b[0m\u001b[0;34m(\u001b[0m\u001b[0ms_yTe\u001b[0m\u001b[0;34m)\u001b[0m\u001b[0;34m)\u001b[0m\u001b[0;34m\u001b[0m\u001b[0m\n\u001b[1;32m     21\u001b[0m         \u001b[0mprint\u001b[0m\u001b[0;34m(\u001b[0m\u001b[0macc\u001b[0m\u001b[0;34m)\u001b[0m\u001b[0;34m\u001b[0m\u001b[0m\n",
      "\u001b[0;32m<ipython-input-5-2e7adba85365>\u001b[0m in \u001b[0;36mclassify\u001b[0;34m(k, xTe, xTr, yTr)\u001b[0m\n\u001b[1;32m     19\u001b[0m \u001b[0;32mdef\u001b[0m \u001b[0mclassify\u001b[0m\u001b[0;34m(\u001b[0m\u001b[0mk\u001b[0m\u001b[0;34m,\u001b[0m \u001b[0mxTe\u001b[0m\u001b[0;34m,\u001b[0m \u001b[0mxTr\u001b[0m\u001b[0;34m=\u001b[0m\u001b[0mdata\u001b[0m\u001b[0;34m,\u001b[0m \u001b[0myTr\u001b[0m\u001b[0;34m=\u001b[0m\u001b[0mnp\u001b[0m\u001b[0;34m.\u001b[0m\u001b[0marray\u001b[0m\u001b[0;34m(\u001b[0m\u001b[0mlabel\u001b[0m\u001b[0;34m,\u001b[0m\u001b[0mdtype\u001b[0m\u001b[0;34m=\u001b[0m\u001b[0mint\u001b[0m\u001b[0;34m)\u001b[0m\u001b[0;34m)\u001b[0m\u001b[0;34m:\u001b[0m\u001b[0;34m\u001b[0m\u001b[0m\n\u001b[1;32m     20\u001b[0m     \u001b[0mk\u001b[0m \u001b[0;34m=\u001b[0m \u001b[0mint\u001b[0m\u001b[0;34m(\u001b[0m\u001b[0mk\u001b[0m\u001b[0;34m)\u001b[0m\u001b[0;34m\u001b[0m\u001b[0m\n\u001b[0;32m---> 21\u001b[0;31m     \u001b[0mdistMat\u001b[0m \u001b[0;34m=\u001b[0m \u001b[0mget_dist_batch\u001b[0m\u001b[0;34m(\u001b[0m\u001b[0mxTr\u001b[0m\u001b[0;34m,\u001b[0m\u001b[0mxTe\u001b[0m\u001b[0;34m)\u001b[0m\u001b[0;34m\u001b[0m\u001b[0m\n\u001b[0m\u001b[1;32m     22\u001b[0m     \u001b[0mdistMat\u001b[0m \u001b[0;34m=\u001b[0m \u001b[0mdistMat\u001b[0m\u001b[0;34m.\u001b[0m\u001b[0mreshape\u001b[0m\u001b[0;34m(\u001b[0m\u001b[0;34m-\u001b[0m\u001b[0;36m1\u001b[0m\u001b[0;34m,\u001b[0m\u001b[0mlen\u001b[0m\u001b[0;34m(\u001b[0m\u001b[0mxTr\u001b[0m\u001b[0;34m)\u001b[0m\u001b[0;34m)\u001b[0m\u001b[0;34m\u001b[0m\u001b[0m\n\u001b[1;32m     23\u001b[0m     \u001b[0mvoteResult\u001b[0m \u001b[0;34m=\u001b[0m \u001b[0mfind_NN\u001b[0m\u001b[0;34m(\u001b[0m\u001b[0mk\u001b[0m\u001b[0;34m,\u001b[0m\u001b[0mdistMat\u001b[0m\u001b[0;34m,\u001b[0m\u001b[0myTr\u001b[0m\u001b[0;34m)\u001b[0m\u001b[0;34m\u001b[0m\u001b[0m\n",
      "\u001b[0;32m<ipython-input-4-f79dcba2ca17>\u001b[0m in \u001b[0;36mget_dist_batch\u001b[0;34m(batch1, batch2)\u001b[0m\n\u001b[1;32m     11\u001b[0m         \u001b[0mmat1\u001b[0m \u001b[0;34m=\u001b[0m \u001b[0mnp\u001b[0m\u001b[0;34m.\u001b[0m\u001b[0mtile\u001b[0m\u001b[0;34m(\u001b[0m\u001b[0ma\u001b[0m\u001b[0;34m,\u001b[0m \u001b[0;34m(\u001b[0m\u001b[0mlen\u001b[0m\u001b[0;34m(\u001b[0m\u001b[0mbatch2\u001b[0m\u001b[0;34m)\u001b[0m\u001b[0;34m,\u001b[0m \u001b[0;36m1\u001b[0m\u001b[0;34m)\u001b[0m\u001b[0;34m)\u001b[0m\u001b[0;34m\u001b[0m\u001b[0m\n\u001b[1;32m     12\u001b[0m         \u001b[0mmat2\u001b[0m \u001b[0;34m=\u001b[0m \u001b[0mnp\u001b[0m\u001b[0;34m.\u001b[0m\u001b[0marray\u001b[0m\u001b[0;34m(\u001b[0m\u001b[0mbatch2\u001b[0m\u001b[0;34m)\u001b[0m\u001b[0;34m\u001b[0m\u001b[0m\n\u001b[0;32m---> 13\u001b[0;31m         \u001b[0mdist\u001b[0m \u001b[0;34m=\u001b[0m \u001b[0;34m(\u001b[0m\u001b[0mmat1\u001b[0m\u001b[0;34m-\u001b[0m\u001b[0mmat2\u001b[0m\u001b[0;34m)\u001b[0m\u001b[0;34m**\u001b[0m\u001b[0;36m2\u001b[0m\u001b[0;34m\u001b[0m\u001b[0m\n\u001b[0m\u001b[1;32m     14\u001b[0m         \u001b[0mdist\u001b[0m \u001b[0;34m=\u001b[0m \u001b[0;34m(\u001b[0m\u001b[0mnp\u001b[0m\u001b[0;34m.\u001b[0m\u001b[0msum\u001b[0m\u001b[0;34m(\u001b[0m\u001b[0mdist\u001b[0m\u001b[0;34m,\u001b[0m \u001b[0maxis\u001b[0m \u001b[0;34m=\u001b[0m \u001b[0;36m1\u001b[0m\u001b[0;34m)\u001b[0m\u001b[0;34m)\u001b[0m\u001b[0;34m**\u001b[0m\u001b[0;36m0.5\u001b[0m\u001b[0;34m\u001b[0m\u001b[0m\n\u001b[1;32m     15\u001b[0m         \u001b[0mall_dist\u001b[0m\u001b[0;34m.\u001b[0m\u001b[0mappend\u001b[0m\u001b[0;34m(\u001b[0m\u001b[0mdist\u001b[0m\u001b[0;34m)\u001b[0m\u001b[0;34m\u001b[0m\u001b[0m\n",
      "\u001b[0;31mKeyboardInterrupt\u001b[0m: "
     ]
    }
   ],
   "source": [
    "#(f)\n",
    "def cross_val(k, xTr=data[:],yTr=np.array(label[:],dtype=int)):\n",
    "    set_size = int(round(len(yTr)/3.0))\n",
    "    np.random.seed(3)\n",
    "    shuffled = np.arange(len(yTr))\n",
    "    np.random.shuffle(shuffled)\n",
    "    shuffled = np.array(shuffled)\n",
    "    sets = [shuffled[0:set_size],shuffled[set_size:2*set_size],shuffled[2*set_size:len(yTr)]]\n",
    "    acc_list=[]\n",
    "    y_pred_list=[]\n",
    "    s_yTe_list=[]\n",
    "\n",
    "    for i in range(3):\n",
    "        print(i)\n",
    "        s_xTe = np.take(xTr,sets[i], axis= 0)\n",
    "        s_yTe = np.take(yTr,sets[i], axis= 0)\n",
    "        s_xTr = np.take(xTr,np.append(sets[(i+1)%3],sets[(i+2)%3]), axis= 0)\n",
    "        s_yTr = np.take(yTr,np.append(sets[(i+1)%3],sets[(i+2)%3]), axis= 0)\n",
    "        y_pred = np.array(classify(k, s_xTe, s_xTr, s_yTr))\n",
    "        acc = (y_pred==s_yTe)[0].sum()/float(len(s_yTe))\n",
    "        print(acc)\n",
    "        acc_list.append(acc)\n",
    "        y_pred_list.append(y_pred)\n",
    "        s_yTe_list.append(s_yTe)\n",
    "    print(acc_list)\n",
    "    return acc_list,y_pred_list,s_yTe_list\n",
    "avg_acc, y_pred_list, s_yTe_list = cross_val(3)\n",
    "    \n",
    "    "
   ]
  },
  {
   "cell_type": "code",
   "execution_count": null,
   "metadata": {},
   "outputs": [],
   "source": []
  }
 ],
 "metadata": {
  "kernelspec": {
   "display_name": "Python 3",
   "language": "python",
   "name": "python3"
  },
  "language_info": {
   "codemirror_mode": {
    "name": "ipython",
    "version": 3
   },
   "file_extension": ".py",
   "mimetype": "text/x-python",
   "name": "python",
   "nbconvert_exporter": "python",
   "pygments_lexer": "ipython3",
   "version": "3.5.5"
  }
 },
 "nbformat": 4,
 "nbformat_minor": 2
}
