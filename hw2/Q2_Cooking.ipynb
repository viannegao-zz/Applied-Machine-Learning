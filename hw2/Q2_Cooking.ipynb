{
 "cells": [
  {
   "cell_type": "code",
   "execution_count": 24,
   "metadata": {},
   "outputs": [
    {
     "name": "stderr",
     "output_type": "stream",
     "text": [
      "/anaconda2/lib/python2.7/site-packages/sklearn/cross_validation.py:41: DeprecationWarning: This module was deprecated in version 0.18 in favor of the model_selection module into which all the refactored classes and functions are moved. Also note that the interface of the new CV iterators are different from that of this module. This module will be removed in 0.20.\n",
      "  \"This module will be removed in 0.20.\", DeprecationWarning)\n"
     ]
    }
   ],
   "source": [
    "import numpy as np\n",
    "import json\n",
    "from scipy import misc\n",
    "from sklearn.linear_model import LogisticRegression\n",
    "from sklearn.cross_validation import KFold\n",
    "from sklearn.naive_bayes import GaussianNB\n",
    "from sklearn.naive_bayes import BernoulliNB\n",
    "from sklearn.naive_bayes import MultinomialNB\n",
    "from matplotlib import pylab as plt\n",
    "%matplotlib inline"
   ]
  },
  {
   "cell_type": "code",
   "execution_count": 26,
   "metadata": {},
   "outputs": [],
   "source": [
    "train_data = json.load(open('train.json','r'))"
   ]
  },
  {
   "cell_type": "code",
   "execution_count": 8,
   "metadata": {},
   "outputs": [
    {
     "name": "stdout",
     "output_type": "stream",
     "text": [
      "Number of dishes: 39774\n",
      "Number of ingredients: 6714\n",
      "Number of cuisines: 20\n"
     ]
    }
   ],
   "source": [
    "all_ingredients = []\n",
    "all_dishes = []\n",
    "for dish in train_data:\n",
    "    for ingredient in dish[u'ingredients']:\n",
    "        all_ingredients.append(ingredient.strip())\n",
    "    all_dishes.append(dish[u'cuisine'].strip())\n",
    "print('Number of dishes: '+str(len(train_data)))\n",
    "print('Number of unique ingredients: '+str(len(set(all_ingredients))))\n",
    "print('Number of cuisines: '+str(len(set(all_dishes))))"
   ]
  },
  {
   "cell_type": "code",
   "execution_count": 14,
   "metadata": {},
   "outputs": [],
   "source": [
    "#(c) binary encoding of ingredients list\n",
    "ing_dict=dict()\n",
    "ind = 0\n",
    "for i in set(all_ingredients):\n",
    "    ing_dict[i]=ind\n",
    "    ind+=1"
   ]
  },
  {
   "cell_type": "code",
   "execution_count": 21,
   "metadata": {},
   "outputs": [
    {
     "name": "stdout",
     "output_type": "stream",
     "text": [
      "500\n",
      "1000\n",
      "1500\n",
      "2000\n",
      "2500\n",
      "3000\n",
      "3500\n",
      "4000\n",
      "4500\n",
      "5000\n",
      "5500\n",
      "6000\n",
      "6500\n",
      "7000\n",
      "7500\n",
      "8000\n",
      "8500\n",
      "9000\n",
      "9500\n",
      "10000\n",
      "10500\n",
      "11000\n",
      "11500\n",
      "12000\n",
      "12500\n",
      "13000\n",
      "13500\n",
      "14000\n",
      "14500\n",
      "15000\n",
      "15500\n",
      "16000\n",
      "16500\n",
      "17000\n",
      "17500\n",
      "18000\n",
      "18500\n",
      "19000\n",
      "19500\n",
      "20000\n",
      "20500\n",
      "21000\n",
      "21500\n",
      "22000\n",
      "22500\n",
      "23000\n",
      "23500\n",
      "24000\n",
      "24500\n",
      "25000\n",
      "25500\n",
      "26000\n",
      "26500\n",
      "27000\n",
      "27500\n",
      "28000\n",
      "28500\n",
      "29000\n",
      "29500\n",
      "30000\n",
      "30500\n",
      "31000\n",
      "31500\n",
      "32000\n",
      "32500\n",
      "33000\n",
      "33500\n",
      "34000\n",
      "34500\n",
      "35000\n",
      "35500\n",
      "36000\n",
      "36500\n",
      "37000\n",
      "37500\n",
      "38000\n",
      "38500\n",
      "39000\n",
      "39500\n"
     ]
    }
   ],
   "source": [
    "train_binary = []\n",
    "for dish in train_data:\n",
    "    dish_binary = [0]*len(set(all_ingredients))\n",
    "    for ingredient in dish[u'ingredients']:\n",
    "        dish_binary[ing_dict[ingredient]]=1\n",
    "    train_binary.append(dish_binary)\n",
    "train_binary = np.array(train_binary, dtype=int)"
   ]
  },
  {
   "cell_type": "code",
   "execution_count": 22,
   "metadata": {},
   "outputs": [],
   "source": [
    "#(d)\n",
    "train_label = np.array(all_dishes, dtype = str)"
   ]
  },
  {
   "cell_type": "code",
   "execution_count": 25,
   "metadata": {},
   "outputs": [
    {
     "name": "stdout",
     "output_type": "stream",
     "text": [
      "Gaussian: 0.379846130638\n",
      "Bernoulli: 0.683536983959\n",
      "Logistic Regression: 0.775556896465\n"
     ]
    }
   ],
   "source": [
    "nb_gaussian = GaussianNB()\n",
    "nb_bernoulli = BernoulliNB()\n",
    "nb_logis = LogisticRegression()\n",
    "\n",
    "crossval = KFold(len(train_binary), n_folds=3)\n",
    "avg_gaussian, avg_bernoulli, avg_logis =0,0,0\n",
    "\n",
    "for tr_ind, te_ind in crossval:\n",
    "    xtr= train_binary[tr_ind]\n",
    "    xte = train_binary[te_ind]\n",
    "    ytr = train_label[tr_ind]\n",
    "    yte = train_label[te_ind]\n",
    "    \n",
    "    nb_gaussian.fit(xtr, ytr)\n",
    "    nb_bernoulli.fit(xtr, ytr)\n",
    "    nb_logis.fit(xtr, ytr)\n",
    "    avg_gaussian += nb_gaussian.score(xte, yte)/3\n",
    "    avg_bernoulli += nb_bernoulli.score(xte, yte)/3\n",
    "    avg_logis += nb_logis.score(xte, yte)/3\n",
    "\n",
    "print(\"Gaussian: \"+str(avg_gaussian))\n",
    "print(\"Bernoulli: \"+str(avg_bernoulli))\n",
    "print(\"Logistic Regression: \"+str(avg_logis))"
   ]
  },
  {
   "cell_type": "code",
   "execution_count": 29,
   "metadata": {},
   "outputs": [
    {
     "ename": "TypeError",
     "evalue": "Mismatch between array dtype ('|S21') and format specifier ('%.18e %.18e')",
     "output_type": "error",
     "traceback": [
      "\u001b[0;31m---------------------------------------------------------------------------\u001b[0m",
      "\u001b[0;31mTypeError\u001b[0m                                 Traceback (most recent call last)",
      "\u001b[0;32m<ipython-input-29-df3206e1a6f2>\u001b[0m in \u001b[0;36m<module>\u001b[0;34m()\u001b[0m\n\u001b[1;32m     12\u001b[0m \u001b[0mtest_id\u001b[0m \u001b[0;34m=\u001b[0m \u001b[0mnp\u001b[0m\u001b[0;34m.\u001b[0m\u001b[0marray\u001b[0m\u001b[0;34m(\u001b[0m\u001b[0mtest_id\u001b[0m\u001b[0;34m)\u001b[0m\u001b[0;34m\u001b[0m\u001b[0m\n\u001b[1;32m     13\u001b[0m \u001b[0mtest_pred\u001b[0m \u001b[0;34m=\u001b[0m \u001b[0mnb_logis\u001b[0m\u001b[0;34m.\u001b[0m\u001b[0mpredict\u001b[0m\u001b[0;34m(\u001b[0m\u001b[0mtest_data\u001b[0m\u001b[0;34m)\u001b[0m\u001b[0;34m\u001b[0m\u001b[0m\n\u001b[0;32m---> 14\u001b[0;31m \u001b[0mnp\u001b[0m\u001b[0;34m.\u001b[0m\u001b[0msavetxt\u001b[0m\u001b[0;34m(\u001b[0m\u001b[0;34m'cooking_handin.csv'\u001b[0m\u001b[0;34m,\u001b[0m \u001b[0mnp\u001b[0m\u001b[0;34m.\u001b[0m\u001b[0mc_\u001b[0m\u001b[0;34m[\u001b[0m\u001b[0mtest_id\u001b[0m\u001b[0;34m,\u001b[0m\u001b[0mtest_pred\u001b[0m\u001b[0;34m]\u001b[0m\u001b[0;34m)\u001b[0m\u001b[0;34m\u001b[0m\u001b[0m\n\u001b[0m",
      "\u001b[0;32m/anaconda2/lib/python2.7/site-packages/numpy/lib/npyio.pyc\u001b[0m in \u001b[0;36msavetxt\u001b[0;34m(fname, X, fmt, delimiter, newline, header, footer, comments, encoding)\u001b[0m\n\u001b[1;32m   1389\u001b[0m                     raise TypeError(\"Mismatch between array dtype ('%s') and \"\n\u001b[1;32m   1390\u001b[0m                                     \u001b[0;34m\"format specifier ('%s')\"\u001b[0m\u001b[0;34m\u001b[0m\u001b[0m\n\u001b[0;32m-> 1391\u001b[0;31m                                     % (str(X.dtype), format))\n\u001b[0m\u001b[1;32m   1392\u001b[0m                 \u001b[0mfh\u001b[0m\u001b[0;34m.\u001b[0m\u001b[0mwrite\u001b[0m\u001b[0;34m(\u001b[0m\u001b[0mv\u001b[0m\u001b[0;34m)\u001b[0m\u001b[0;34m\u001b[0m\u001b[0m\n\u001b[1;32m   1393\u001b[0m \u001b[0;34m\u001b[0m\u001b[0m\n",
      "\u001b[0;31mTypeError\u001b[0m: Mismatch between array dtype ('|S21') and format specifier ('%.18e %.18e')"
     ]
    }
   ],
   "source": [
    "test = json.load(open('test.json','r'))\n",
    "test_data = []\n",
    "test_id = []\n",
    "for dish in test:\n",
    "    test_id.append(dish[u'id'])\n",
    "    dish_binary = [0]*len(set(all_ingredients))\n",
    "    for ingredient in dish[u'ingredients']:\n",
    "        if ingredient in ing_dict:\n",
    "            dish_binary[ing_dict[ingredient]]=1\n",
    "    test_data.append(dish_binary)\n",
    "test_data = np.array(test_data, dtype=int)\n",
    "test_id = np.array(test_id)\n",
    "test_pred = nb_logis.predict(test_data)\n"
   ]
  },
  {
   "cell_type": "code",
   "execution_count": 34,
   "metadata": {},
   "outputs": [],
   "source": [
    "np.savetxt('cooking_handin.csv', np.column_stack([test_id,test_pred]),delimiter=',',fmt='%s')"
   ]
  },
  {
   "cell_type": "code",
   "execution_count": null,
   "metadata": {},
   "outputs": [],
   "source": []
  }
 ],
 "metadata": {
  "kernelspec": {
   "display_name": "Python 2",
   "language": "python",
   "name": "python2"
  },
  "language_info": {
   "codemirror_mode": {
    "name": "ipython",
    "version": 2
   },
   "file_extension": ".py",
   "mimetype": "text/x-python",
   "name": "python",
   "nbconvert_exporter": "python",
   "pygments_lexer": "ipython2",
   "version": "2.7.15"
  }
 },
 "nbformat": 4,
 "nbformat_minor": 2
}
